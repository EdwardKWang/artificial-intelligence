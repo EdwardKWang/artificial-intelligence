{
 "cells": [
  {
   "cell_type": "code",
   "execution_count": 2,
   "metadata": {},
   "outputs": [],
   "source": [
    "import pathlib\n",
    "import pandas as pd\n",
    "\n",
    "BASE_DIR = pathlib.Path().resolve().parent\n",
    "DATASET_DIR = BASE_DIR / \"datasets\"\n",
    "\n",
    "EXPORT_DIR = DATASET_DIR / \"exports\"\n",
    "EXPORT_DIR.mkdir(exist_ok=True, parents=True)\n",
    "SPAM_DATASET_PATH = EXPORT_DIR / \"spam-dataset.csv\"\n",
    "\n",
    "ZIPS_DIR = DATASET_DIR / \"zips\"\n",
    "ZIPS_DIR.mkdir(exist_ok=True, parents=True)\n",
    "\n",
    "SPAM_SMS_ZIP_PATH = ZIPS_DIR / \"sms-spam-dataset.zip\"\n",
    "SPAM_YOUTUBE_ZIP_PATH = ZIPS_DIR / \"youtube-spam-dataset.zip\""
   ]
  },
  {
   "cell_type": "code",
   "execution_count": 3,
   "metadata": {},
   "outputs": [],
   "source": [
    "SMS_SPAM_ZIP = \"https://archive.ics.uci.edu/static/public/228/sms+spam+collection.zip\"\n",
    "YOUTUBE_SPAM_ZIP = \"https://archive.ics.uci.edu/static/public/380/youtube+spam+collection.zip\""
   ]
  },
  {
   "cell_type": "code",
   "execution_count": 4,
   "metadata": {},
   "outputs": [
    {
     "name": "stdout",
     "output_type": "stream",
     "text": [
      "  % Total    % Received % Xferd  Average Speed   Time    Time     Time  Current\n",
      "                                 Dload  Upload   Total   Spent    Left  Speed\n",
      "100  198k    0  198k    0     0   272k      0 --:--:-- --:--:-- --:--:--  272k\n",
      "  % Total    % Received % Xferd  Average Speed   Time    Time     Time  Current\n",
      "                                 Dload  Upload   Total   Spent    Left  Speed\n",
      "100  159k    0  159k    0     0   339k      0 --:--:-- --:--:-- --:--:--  339k\n"
     ]
    }
   ],
   "source": [
    "!curl $SMS_SPAM_ZIP -o $SPAM_SMS_ZIP_PATH\n",
    "!curl $YOUTUBE_SPAM_ZIP -o $SPAM_YOUTUBE_ZIP_PATH"
   ]
  },
  {
   "cell_type": "code",
   "execution_count": 5,
   "metadata": {},
   "outputs": [],
   "source": [
    "SPAM_CLASSIFICATION_DIR = DATASET_DIR / \"spam_classification\"\n",
    "SMS_SPAM_DIR = SPAM_CLASSIFICATION_DIR / \"sms-spam\"\n",
    "YOUTUBE_SPAM_DIR = SPAM_CLASSIFICATION_DIR / \"youtube-spam\"\n",
    "SMS_SPAM_DIR.mkdir(exist_ok=True, parents=True)\n",
    "YOUTUBE_SPAM_DIR.mkdir(exist_ok=True, parents=True)"
   ]
  },
  {
   "cell_type": "code",
   "execution_count": 6,
   "metadata": {},
   "outputs": [
    {
     "name": "stdout",
     "output_type": "stream",
     "text": [
      "Archive:  /Users/edkwang/Drive/Code/projects/public/machine-learning/lstm-spam-api/datasets/zips/sms-spam-dataset.zip\n",
      "  inflating: /Users/edkwang/Drive/Code/projects/public/machine-learning/lstm-spam-api/datasets/spam_classification/sms-spam/SMSSpamCollection  \n",
      "  inflating: /Users/edkwang/Drive/Code/projects/public/machine-learning/lstm-spam-api/datasets/spam_classification/sms-spam/readme  \n"
     ]
    },
    {
     "name": "stdout",
     "output_type": "stream",
     "text": [
      "Archive:  /Users/edkwang/Drive/Code/projects/public/machine-learning/lstm-spam-api/datasets/zips/youtube-spam-dataset.zip\n",
      "  inflating: /Users/edkwang/Drive/Code/projects/public/machine-learning/lstm-spam-api/datasets/spam_classification/youtube-spam/Youtube01-Psy.csv  \n",
      "  inflating: /Users/edkwang/Drive/Code/projects/public/machine-learning/lstm-spam-api/datasets/spam_classification/youtube-spam/__MACOSX/._Youtube01-Psy.csv  \n",
      "  inflating: /Users/edkwang/Drive/Code/projects/public/machine-learning/lstm-spam-api/datasets/spam_classification/youtube-spam/Youtube02-KatyPerry.csv  \n",
      "  inflating: /Users/edkwang/Drive/Code/projects/public/machine-learning/lstm-spam-api/datasets/spam_classification/youtube-spam/__MACOSX/._Youtube02-KatyPerry.csv  \n",
      "  inflating: /Users/edkwang/Drive/Code/projects/public/machine-learning/lstm-spam-api/datasets/spam_classification/youtube-spam/Youtube03-LMFAO.csv  \n",
      "  inflating: /Users/edkwang/Drive/Code/projects/public/machine-learning/lstm-spam-api/datasets/spam_classification/youtube-spam/__MACOSX/._Youtube03-LMFAO.csv  \n",
      "  inflating: /Users/edkwang/Drive/Code/projects/public/machine-learning/lstm-spam-api/datasets/spam_classification/youtube-spam/Youtube04-Eminem.csv  \n",
      "  inflating: /Users/edkwang/Drive/Code/projects/public/machine-learning/lstm-spam-api/datasets/spam_classification/youtube-spam/__MACOSX/._Youtube04-Eminem.csv  \n",
      "  inflating: /Users/edkwang/Drive/Code/projects/public/machine-learning/lstm-spam-api/datasets/spam_classification/youtube-spam/Youtube05-Shakira.csv  \n",
      "  inflating: /Users/edkwang/Drive/Code/projects/public/machine-learning/lstm-spam-api/datasets/spam_classification/youtube-spam/__MACOSX/._Youtube05-Shakira.csv  \n"
     ]
    }
   ],
   "source": [
    "!unzip -o $SPAM_SMS_ZIP_PATH -d $SMS_SPAM_DIR\n",
    "!unzip -o $SPAM_YOUTUBE_ZIP_PATH -d $YOUTUBE_SPAM_DIR\n"
   ]
  },
  {
   "cell_type": "code",
   "execution_count": 9,
   "metadata": {},
   "outputs": [
    {
     "name": "stdout",
     "output_type": "stream",
     "text": [
      "/Users/edkwang/Drive/Code/projects/public/machine-learning/lstm-spam-api/datasets/spam_classification/sms-spam/readme\n",
      "/Users/edkwang/Drive/Code/projects/public/machine-learning/lstm-spam-api/datasets/spam_classification/sms-spam/SMSSpamCollection\n",
      "ham\tGo until jurong point, crazy.. Available only in bugis n great world la e buffet... Cine there g\n"
     ]
    }
   ],
   "source": [
    "for path in SMS_SPAM_DIR.glob(\"*\"):\n",
    "    print(path)\n",
    "    try:\n",
    "        print(path.read_text()[:100])\n",
    "    except:\n",
    "        pass"
   ]
  },
  {
   "cell_type": "code",
   "execution_count": 11,
   "metadata": {},
   "outputs": [
    {
     "data": {
      "text/plain": [
       "'ham\\tGo until jurong point, crazy.. Available only in bugis n great world la e buffet... Cine there g'"
      ]
     },
     "execution_count": 11,
     "metadata": {},
     "output_type": "execute_result"
    }
   ],
   "source": [
    "sms_spam_input_path = SMS_SPAM_DIR / \"SMSSpamCollection\"\n",
    "sms_spam_input_path.read_text()[:100]\n"
   ]
  },
  {
   "cell_type": "code",
   "execution_count": 12,
   "metadata": {},
   "outputs": [
    {
     "name": "stdout",
     "output_type": "stream",
     "text": [
      "/Users/edkwang/Drive/Code/projects/public/machine-learning/lstm-spam-api/datasets/spam_classification/youtube-spam/Youtube03-LMFAO.csv\n",
      "/Users/edkwang/Drive/Code/projects/public/machine-learning/lstm-spam-api/datasets/spam_classification/youtube-spam/Youtube04-Eminem.csv\n",
      "/Users/edkwang/Drive/Code/projects/public/machine-learning/lstm-spam-api/datasets/spam_classification/youtube-spam/Youtube05-Shakira.csv\n",
      "/Users/edkwang/Drive/Code/projects/public/machine-learning/lstm-spam-api/datasets/spam_classification/youtube-spam/Youtube02-KatyPerry.csv\n",
      "/Users/edkwang/Drive/Code/projects/public/machine-learning/lstm-spam-api/datasets/spam_classification/youtube-spam/__MACOSX\n",
      "/Users/edkwang/Drive/Code/projects/public/machine-learning/lstm-spam-api/datasets/spam_classification/youtube-spam/Youtube01-Psy.csv\n"
     ]
    }
   ],
   "source": [
    "for path in YOUTUBE_SPAM_DIR.glob(\"*\"):\n",
    "    print(path)"
   ]
  },
  {
   "cell_type": "code",
   "execution_count": 13,
   "metadata": {},
   "outputs": [
    {
     "data": {
      "text/html": [
       "<div>\n",
       "<style scoped>\n",
       "    .dataframe tbody tr th:only-of-type {\n",
       "        vertical-align: middle;\n",
       "    }\n",
       "\n",
       "    .dataframe tbody tr th {\n",
       "        vertical-align: top;\n",
       "    }\n",
       "\n",
       "    .dataframe thead th {\n",
       "        text-align: right;\n",
       "    }\n",
       "</style>\n",
       "<table border=\"1\" class=\"dataframe\">\n",
       "  <thead>\n",
       "    <tr style=\"text-align: right;\">\n",
       "      <th></th>\n",
       "      <th>label</th>\n",
       "      <th>text</th>\n",
       "      <th>source</th>\n",
       "    </tr>\n",
       "  </thead>\n",
       "  <tbody>\n",
       "    <tr>\n",
       "      <th>0</th>\n",
       "      <td>ham</td>\n",
       "      <td>Go until jurong point, crazy.. Available only ...</td>\n",
       "      <td>sms=spam</td>\n",
       "    </tr>\n",
       "    <tr>\n",
       "      <th>1</th>\n",
       "      <td>ham</td>\n",
       "      <td>Ok lar... Joking wif u oni...</td>\n",
       "      <td>sms=spam</td>\n",
       "    </tr>\n",
       "    <tr>\n",
       "      <th>2</th>\n",
       "      <td>spam</td>\n",
       "      <td>Free entry in 2 a wkly comp to win FA Cup fina...</td>\n",
       "      <td>sms=spam</td>\n",
       "    </tr>\n",
       "    <tr>\n",
       "      <th>3</th>\n",
       "      <td>ham</td>\n",
       "      <td>U dun say so early hor... U c already then say...</td>\n",
       "      <td>sms=spam</td>\n",
       "    </tr>\n",
       "    <tr>\n",
       "      <th>4</th>\n",
       "      <td>ham</td>\n",
       "      <td>Nah I don't think he goes to usf, he lives aro...</td>\n",
       "      <td>sms=spam</td>\n",
       "    </tr>\n",
       "  </tbody>\n",
       "</table>\n",
       "</div>"
      ],
      "text/plain": [
       "  label                                               text    source\n",
       "0   ham  Go until jurong point, crazy.. Available only ...  sms=spam\n",
       "1   ham                      Ok lar... Joking wif u oni...  sms=spam\n",
       "2  spam  Free entry in 2 a wkly comp to win FA Cup fina...  sms=spam\n",
       "3   ham  U dun say so early hor... U c already then say...  sms=spam\n",
       "4   ham  Nah I don't think he goes to usf, he lives aro...  sms=spam"
      ]
     },
     "execution_count": 13,
     "metadata": {},
     "output_type": "execute_result"
    }
   ],
   "source": [
    "sms_df = pd.read_csv(sms_spam_input_path, sep=\"\\t\", header=None, names=[\"label\", \"text\"])\n",
    "sms_df['source'] = 'sms=spam'\n",
    "sms_df.head()"
   ]
  },
  {
   "cell_type": "code",
   "execution_count": 14,
   "metadata": {},
   "outputs": [
    {
     "data": {
      "text/html": [
       "<div>\n",
       "<style scoped>\n",
       "    .dataframe tbody tr th:only-of-type {\n",
       "        vertical-align: middle;\n",
       "    }\n",
       "\n",
       "    .dataframe tbody tr th {\n",
       "        vertical-align: top;\n",
       "    }\n",
       "\n",
       "    .dataframe thead th {\n",
       "        text-align: right;\n",
       "    }\n",
       "</style>\n",
       "<table border=\"1\" class=\"dataframe\">\n",
       "  <thead>\n",
       "    <tr style=\"text-align: right;\">\n",
       "      <th></th>\n",
       "      <th>label</th>\n",
       "      <th>text</th>\n",
       "      <th>raw_source</th>\n",
       "      <th>source</th>\n",
       "    </tr>\n",
       "  </thead>\n",
       "  <tbody>\n",
       "    <tr>\n",
       "      <th>0</th>\n",
       "      <td>ham</td>\n",
       "      <td>&lt;a href=\"http://www.youtube.com/watch?v=KQ6zr6...</td>\n",
       "      <td>Youtube03-LMFAO.csv</td>\n",
       "      <td>youtube-spam</td>\n",
       "    </tr>\n",
       "    <tr>\n",
       "      <th>1</th>\n",
       "      <td>ham</td>\n",
       "      <td>wierd but funny﻿</td>\n",
       "      <td>Youtube03-LMFAO.csv</td>\n",
       "      <td>youtube-spam</td>\n",
       "    </tr>\n",
       "    <tr>\n",
       "      <th>2</th>\n",
       "      <td>spam</td>\n",
       "      <td>Hey guys, I&amp;#39;m a human.&lt;br /&gt;&lt;br /&gt;&lt;br /&gt;Bu...</td>\n",
       "      <td>Youtube03-LMFAO.csv</td>\n",
       "      <td>youtube-spam</td>\n",
       "    </tr>\n",
       "    <tr>\n",
       "      <th>3</th>\n",
       "      <td>ham</td>\n",
       "      <td>Party Rock....lol...who wants to shuffle!!!﻿</td>\n",
       "      <td>Youtube03-LMFAO.csv</td>\n",
       "      <td>youtube-spam</td>\n",
       "    </tr>\n",
       "    <tr>\n",
       "      <th>4</th>\n",
       "      <td>ham</td>\n",
       "      <td>Party rock﻿</td>\n",
       "      <td>Youtube03-LMFAO.csv</td>\n",
       "      <td>youtube-spam</td>\n",
       "    </tr>\n",
       "  </tbody>\n",
       "</table>\n",
       "</div>"
      ],
      "text/plain": [
       "  label                                               text  \\\n",
       "0   ham  <a href=\"http://www.youtube.com/watch?v=KQ6zr6...   \n",
       "1   ham                                   wierd but funny﻿   \n",
       "2  spam  Hey guys, I&#39;m a human.<br /><br /><br />Bu...   \n",
       "3   ham       Party Rock....lol...who wants to shuffle!!!﻿   \n",
       "4   ham                                        Party rock﻿   \n",
       "\n",
       "            raw_source        source  \n",
       "0  Youtube03-LMFAO.csv  youtube-spam  \n",
       "1  Youtube03-LMFAO.csv  youtube-spam  \n",
       "2  Youtube03-LMFAO.csv  youtube-spam  \n",
       "3  Youtube03-LMFAO.csv  youtube-spam  \n",
       "4  Youtube03-LMFAO.csv  youtube-spam  "
      ]
     },
     "execution_count": 14,
     "metadata": {},
     "output_type": "execute_result"
    }
   ],
   "source": [
    "dfs = []\n",
    "for path in YOUTUBE_SPAM_DIR.glob(\"*.csv\"):\n",
    "    raw_df = pd.read_csv(path)\n",
    "    raw_df['raw_source'] = str(path.name)\n",
    "    raw_df.rename(columns={\"CLASS\": \"raw_label\", \"CONTENT\":\"text\"}, inplace=True)\n",
    "    raw_df['label'] = raw_df['raw_label'].apply(lambda x: \"spam\" if str(x) == \"1\" else \"ham\")\n",
    "    raw_df['source'] = 'youtube-spam'\n",
    "    df = raw_df[['label', 'text', 'raw_source','source']].copy()\n",
    "    dfs.append(df)\n",
    "yt_df = pd.concat(dfs)\n",
    "yt_df.head()"
   ]
  },
  {
   "cell_type": "code",
   "execution_count": 15,
   "metadata": {},
   "outputs": [
    {
     "data": {
      "text/html": [
       "<div>\n",
       "<style scoped>\n",
       "    .dataframe tbody tr th:only-of-type {\n",
       "        vertical-align: middle;\n",
       "    }\n",
       "\n",
       "    .dataframe tbody tr th {\n",
       "        vertical-align: top;\n",
       "    }\n",
       "\n",
       "    .dataframe thead th {\n",
       "        text-align: right;\n",
       "    }\n",
       "</style>\n",
       "<table border=\"1\" class=\"dataframe\">\n",
       "  <thead>\n",
       "    <tr style=\"text-align: right;\">\n",
       "      <th></th>\n",
       "      <th>label</th>\n",
       "      <th>text</th>\n",
       "      <th>source</th>\n",
       "      <th>raw_source</th>\n",
       "    </tr>\n",
       "  </thead>\n",
       "  <tbody>\n",
       "    <tr>\n",
       "      <th>0</th>\n",
       "      <td>ham</td>\n",
       "      <td>Go until jurong point, crazy.. Available only ...</td>\n",
       "      <td>sms=spam</td>\n",
       "      <td>NaN</td>\n",
       "    </tr>\n",
       "    <tr>\n",
       "      <th>1</th>\n",
       "      <td>ham</td>\n",
       "      <td>Ok lar... Joking wif u oni...</td>\n",
       "      <td>sms=spam</td>\n",
       "      <td>NaN</td>\n",
       "    </tr>\n",
       "    <tr>\n",
       "      <th>2</th>\n",
       "      <td>spam</td>\n",
       "      <td>Free entry in 2 a wkly comp to win FA Cup fina...</td>\n",
       "      <td>sms=spam</td>\n",
       "      <td>NaN</td>\n",
       "    </tr>\n",
       "    <tr>\n",
       "      <th>3</th>\n",
       "      <td>ham</td>\n",
       "      <td>U dun say so early hor... U c already then say...</td>\n",
       "      <td>sms=spam</td>\n",
       "      <td>NaN</td>\n",
       "    </tr>\n",
       "    <tr>\n",
       "      <th>4</th>\n",
       "      <td>ham</td>\n",
       "      <td>Nah I don't think he goes to usf, he lives aro...</td>\n",
       "      <td>sms=spam</td>\n",
       "      <td>NaN</td>\n",
       "    </tr>\n",
       "  </tbody>\n",
       "</table>\n",
       "</div>"
      ],
      "text/plain": [
       "  label                                               text    source  \\\n",
       "0   ham  Go until jurong point, crazy.. Available only ...  sms=spam   \n",
       "1   ham                      Ok lar... Joking wif u oni...  sms=spam   \n",
       "2  spam  Free entry in 2 a wkly comp to win FA Cup fina...  sms=spam   \n",
       "3   ham  U dun say so early hor... U c already then say...  sms=spam   \n",
       "4   ham  Nah I don't think he goes to usf, he lives aro...  sms=spam   \n",
       "\n",
       "  raw_source  \n",
       "0        NaN  \n",
       "1        NaN  \n",
       "2        NaN  \n",
       "3        NaN  \n",
       "4        NaN  "
      ]
     },
     "execution_count": 15,
     "metadata": {},
     "output_type": "execute_result"
    }
   ],
   "source": [
    "spam_df = pd.concat([sms_df, yt_df])\n",
    "spam_df.head()"
   ]
  },
  {
   "cell_type": "code",
   "execution_count": 16,
   "metadata": {},
   "outputs": [],
   "source": [
    "spam_df.to_csv(SPAM_DATASET_PATH, index=False)"
   ]
  }
 ],
 "metadata": {
  "kernelspec": {
   "display_name": "lstm-spam-api",
   "language": "python",
   "name": "python3"
  },
  "language_info": {
   "codemirror_mode": {
    "name": "ipython",
    "version": 3
   },
   "file_extension": ".py",
   "mimetype": "text/x-python",
   "name": "python",
   "nbconvert_exporter": "python",
   "pygments_lexer": "ipython3",
   "version": "3.12.2"
  }
 },
 "nbformat": 4,
 "nbformat_minor": 2
}
